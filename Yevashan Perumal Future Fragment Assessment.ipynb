{
 "cells": [
  {
   "cell_type": "markdown",
   "metadata": {},
   "source": [
    "# <center>Image Classification based on the Fashion M-Nist Dataset </center>"
   ]
  },
  {
   "cell_type": "markdown",
   "metadata": {},
   "source": [
    "## <center>Summary </center>"
   ]
  },
  {
   "cell_type": "markdown",
   "metadata": {},
   "source": [
    "This notebook contains a simple image classification model that is trained on the Fashion M-NIST data set. It is built using Keras to train a sequential convolutional neural network to classify images into one of 10 classes. Convolutional Neural Networks have been shown to provide good performance in the sphere of image classification, which is why one was chosen for this task.Pooling and dropout layers have been used to improve the performance of the model.\n",
    "\n",
    "The model trained has a test accuracy of 91.2%, which improves on most [benchmarks](http://fashion-mnist.s3-website.eu-central-1.amazonaws.com/#)"
   ]
  },
  {
   "cell_type": "markdown",
   "metadata": {},
   "source": [
    "### Import Libraries"
   ]
  },
  {
   "cell_type": "code",
   "execution_count": 19,
   "metadata": {
    "ExecuteTime": {
     "end_time": "2018-12-09T16:43:04.059090Z",
     "start_time": "2018-12-09T16:43:04.026109Z"
    }
   },
   "outputs": [],
   "source": [
    "#utilities\n",
    "import pandas as pd\n",
    "import numpy as np\n",
    "import matplotlib.pyplot as plt\n",
    "%matplotlib inline\n",
    "import seaborn as sns\n",
    "\n",
    "#Model\n",
    "import tensorflow.keras as keras\n",
    "from keras.models import Sequential\n",
    "from keras.layers import Dense,Conv2D,MaxPooling2D,Dropout,Flatten,BatchNormalization\n",
    "from keras.callbacks import ModelCheckpoint,EarlyStopping\n",
    "from keras.utils import to_categorical\n",
    "\n",
    "#Metrics\n",
    "from sklearn.metrics import accuracy_score,confusion_matrix, classification_report"
   ]
  },
  {
   "cell_type": "markdown",
   "metadata": {},
   "source": [
    "### Import Data and Explore It"
   ]
  },
  {
   "cell_type": "code",
   "execution_count": 2,
   "metadata": {
    "ExecuteTime": {
     "end_time": "2018-12-09T16:18:43.582156Z",
     "start_time": "2018-12-09T16:18:42.925421Z"
    }
   },
   "outputs": [],
   "source": [
    "# Import Fashion M-Nist as per keras documentation\n",
    "from keras.datasets import fashion_mnist\n",
    "(x_train, y_train), (x_test, y_test) = fashion_mnist.load_data()"
   ]
  },
  {
   "cell_type": "code",
   "execution_count": 3,
   "metadata": {
    "ExecuteTime": {
     "end_time": "2018-12-09T16:18:43.601144Z",
     "start_time": "2018-12-09T16:18:43.585157Z"
    }
   },
   "outputs": [
    {
     "name": "stdout",
     "output_type": "stream",
     "text": [
      "X Train Shape: (60000, 28, 28)\n",
      "Y Train Shape: (60000,)\n",
      "X Test Shape: (10000, 28, 28)\n",
      "Y Test Shape: (10000,)\n"
     ]
    }
   ],
   "source": [
    "# check the shape of the imports\n",
    "print(\"X Train Shape: {}\".format(x_train.shape))\n",
    "print(\"Y Train Shape: {}\".format(y_train.shape))\n",
    "print(\"X Test Shape: {}\".format(x_test.shape))\n",
    "print(\"Y Test Shape: {}\".format(y_test.shape))"
   ]
  },
  {
   "cell_type": "markdown",
   "metadata": {},
   "source": [
    "Label\tDescription as per fashion m-nist:\n",
    "* 0\tT-shirt/top\n",
    "* 1\tTrouser\n",
    "* 2\tPullover\n",
    "* 3\tDress\n",
    "* 4\tCoat\n",
    "* 5\tSandal\n",
    "* 6\tShirt\n",
    "* 7\tSneaker\n",
    "* 8\tBag\n",
    "* 9\tAnkle boot\n",
    "  \n",
    "  \n",
    "Dataset of 60,000 28x28 grayscale images of 10 fashion categories, along with a test set of 10,000 images"
   ]
  },
  {
   "cell_type": "code",
   "execution_count": 4,
   "metadata": {
    "ExecuteTime": {
     "end_time": "2018-12-09T16:18:43.625134Z",
     "start_time": "2018-12-09T16:18:43.605145Z"
    }
   },
   "outputs": [],
   "source": [
    "# Make a list of the text labels\n",
    "fashion_mnist_labels = [\"T-shirt/top\",\n",
    "                        \"Trouser\",      \n",
    "                        \"Pullover\",    \n",
    "                        \"Dress\",        \n",
    "                        \"Coat\",       \n",
    "                        \"Sandal\",       \n",
    "                        \"Shirt\",       \n",
    "                        \"Sneaker\",      \n",
    "                        \"Bag\",         \n",
    "                        \"Ankle boot\"]  "
   ]
  },
  {
   "cell_type": "code",
   "execution_count": 5,
   "metadata": {
    "ExecuteTime": {
     "end_time": "2018-12-09T16:18:43.831013Z",
     "start_time": "2018-12-09T16:18:43.630127Z"
    }
   },
   "outputs": [],
   "source": [
    "def show_images(x,y,size):\n",
    "    \"\"\"Select 4 random images and display them along with their class\n",
    "    -better way would be to have a parameter to select sample size and use a loop.\"\"\"\n",
    "    fig,ax=plt.subplots(2,2,figsize=(10,10))\n",
    "    ind1=np.random.randint(0,size)\n",
    "    ind2=np.random.randint(0,size)\n",
    "    ind3=np.random.randint(0,size)\n",
    "    ind4=np.random.randint(0,size)\n",
    "    ax[0,0].imshow(x[ind1])\n",
    "    ax[0,0].set_title(fashion_mnist_labels[y[ind1]])\n",
    "    ax[0,1].imshow(x[ind2])\n",
    "    ax[0,1].set_title(fashion_mnist_labels[y[ind2]])\n",
    "    ax[1,0].imshow(x[ind3])\n",
    "    ax[1,0].set_title(fashion_mnist_labels[y[ind3]])\n",
    "    ax[1,1].imshow(x[ind4])\n",
    "    ax[1,1].set_title(fashion_mnist_labels[y[ind4]])    "
   ]
  },
  {
   "cell_type": "code",
   "execution_count": 6,
   "metadata": {
    "ExecuteTime": {
     "end_time": "2018-12-09T16:18:44.486879Z",
     "start_time": "2018-12-09T16:18:43.834010Z"
    }
   },
   "outputs": [
    {
     "data": {
      "image/png": "[encoded data removed]",
      "text/plain": [
       "<matplotlib.figure.Figure at 0x20d56c590b8>"
      ]
     },
     "metadata": {},
     "output_type": "display_data"
    }
   ],
   "source": [
    "# Random sample of images\n",
    "show_images(x_train,y_train,50000)"
   ]
  },
  {
   "cell_type": "markdown",
   "metadata": {},
   "source": [
    "* Check balance on classes!"
   ]
  },
  {
   "cell_type": "code",
   "execution_count": 7,
   "metadata": {
    "ExecuteTime": {
     "end_time": "2018-12-09T16:18:44.948596Z",
     "start_time": "2018-12-09T16:18:44.489860Z"
    }
   },
   "outputs": [
    {
     "data": {
      "text/plain": [
       "<matplotlib.axes._subplots.AxesSubplot at 0x20d5f4e82e8>"
      ]
     },
     "execution_count": 7,
     "metadata": {},
     "output_type": "execute_result"
    },
    {
     "data": {
      "image/png": "[encoded data removed]",
      "text/plain": [
       "<matplotlib.figure.Figure at 0x20d5f4786d8>"
      ]
     },
     "metadata": {},
     "output_type": "display_data"
    }
   ],
   "source": [
    "fig,ax = plt.subplots(figsize=(15,5))\n",
    "sns.barplot(fashion_mnist_labels,np.unique(y_train, return_counts=True)[1],ax=ax)"
   ]
  },
  {
   "cell_type": "code",
   "execution_count": 8,
   "metadata": {
    "ExecuteTime": {
     "end_time": "2018-12-09T16:18:44.961589Z",
     "start_time": "2018-12-09T16:18:44.951595Z"
    }
   },
   "outputs": [
    {
     "data": {
      "text/plain": [
       "(array([0, 1, 2, 3, 4, 5, 6, 7, 8, 9], dtype=uint8),\n",
       " array([6000, 6000, 6000, 6000, 6000, 6000, 6000, 6000, 6000, 6000],\n",
       "       dtype=int64))"
      ]
     },
     "execution_count": 8,
     "metadata": {},
     "output_type": "execute_result"
    }
   ],
   "source": [
    "np.unique(y_train, return_counts=True)\n",
    "# Order is the same as the list I made so I can use it as a label"
   ]
  },
  {
   "cell_type": "code",
   "execution_count": 9,
   "metadata": {
    "ExecuteTime": {
     "end_time": "2018-12-09T16:18:45.480294Z",
     "start_time": "2018-12-09T16:18:44.964588Z"
    }
   },
   "outputs": [
    {
     "data": {
      "text/plain": [
       "<matplotlib.axes._subplots.AxesSubplot at 0x20d5f2ad668>"
      ]
     },
     "execution_count": 9,
     "metadata": {},
     "output_type": "execute_result"
    },
    {
     "data": {
      "image/png": "[encoded data removed]",
      "text/plain": [
       "<matplotlib.figure.Figure at 0x20d5f4f5358>"
      ]
     },
     "metadata": {},
     "output_type": "display_data"
    }
   ],
   "source": [
    "fig,ax = plt.subplots(figsize=(15,5))\n",
    "sns.barplot(fashion_mnist_labels,np.unique(y_test, return_counts=True)[1],ax=ax)"
   ]
  },
  {
   "cell_type": "markdown",
   "metadata": {},
   "source": [
    "The classes look balanced for each one. That means that to improve on a random guess accuracy would need to be better that 10%."
   ]
  },
  {
   "cell_type": "markdown",
   "metadata": {},
   "source": [
    "### Pre Processing"
   ]
  },
  {
   "cell_type": "code",
   "execution_count": 10,
   "metadata": {
    "ExecuteTime": {
     "end_time": "2018-12-09T16:18:45.509277Z",
     "start_time": "2018-12-09T16:18:45.483292Z"
    }
   },
   "outputs": [
    {
     "name": "stdout",
     "output_type": "stream",
     "text": [
      "x_train shape: (60000, 28, 28, 1) y_train shape: (60000, 10)\n",
      "x_test shape: (60000, 28, 28, 1) y_test shape: (60000, 10)\n"
     ]
    }
   ],
   "source": [
    "# Reshape the input data to one usable by the model\n",
    "img_row = 28\n",
    "img_col = 28\n",
    "channel = 1\n",
    "nclasses = 10\n",
    "\n",
    "# Images\n",
    "x_train = x_train.reshape(x_train.shape[0],img_row,img_col,channel)\n",
    "x_test  = x_test.reshape(x_test.shape[0],img_row,img_col,channel)\n",
    "\n",
    "# One hot encoding of the the target classes\n",
    "y_train = to_categorical(y_train,num_classes=nclasses)\n",
    "y_test = to_categorical(y_test,num_classes=nclasses)\n",
    "\n",
    "# Print training set shape\n",
    "print(\"x_train shape:\", x_train.shape, \"y_train shape:\", y_train.shape)\n",
    "# Print test set shape\n",
    "print(\"x_test shape:\", x_train.shape, \"y_test shape:\", y_train.shape)"
   ]
  },
  {
   "cell_type": "markdown",
   "metadata": {},
   "source": [
    "### Model"
   ]
  },
  {
   "cell_type": "markdown",
   "metadata": {},
   "source": [
    "Set up model architecture"
   ]
  },
  {
   "cell_type": "code",
   "execution_count": 20,
   "metadata": {
    "ExecuteTime": {
     "end_time": "2018-12-09T16:43:09.283938Z",
     "start_time": "2018-12-09T16:43:08.900745Z"
    }
   },
   "outputs": [
    {
     "name": "stdout",
     "output_type": "stream",
     "text": [
      "_________________________________________________________________\n",
      "Layer (type)                 Output Shape              Param #   \n",
      "=================================================================\n",
      "conv2d_7 (Conv2D)            (None, 28, 28, 64)        320       \n",
      "_________________________________________________________________\n",
      "max_pooling2d_7 (MaxPooling2 (None, 14, 14, 64)        0         \n",
      "_________________________________________________________________\n",
      "dropout_9 (Dropout)          (None, 14, 14, 64)        0         \n",
      "_________________________________________________________________\n",
      "conv2d_8 (Conv2D)            (None, 14, 14, 32)        8224      \n",
      "_________________________________________________________________\n",
      "max_pooling2d_8 (MaxPooling2 (None, 7, 7, 32)          0         \n",
      "_________________________________________________________________\n",
      "dropout_10 (Dropout)         (None, 7, 7, 32)          0         \n",
      "_________________________________________________________________\n",
      "batch_normalization_1 (Batch (None, 7, 7, 32)          128       \n",
      "_________________________________________________________________\n",
      "flatten_3 (Flatten)          (None, 1568)              0         \n",
      "_________________________________________________________________\n",
      "dense_5 (Dense)              (None, 256)               401664    \n",
      "_________________________________________________________________\n",
      "dropout_11 (Dropout)         (None, 256)               0         \n",
      "_________________________________________________________________\n",
      "dense_6 (Dense)              (None, 10)                2570      \n",
      "=================================================================\n",
      "Total params: 412,906\n",
      "Trainable params: 412,842\n",
      "Non-trainable params: 64\n",
      "_________________________________________________________________\n"
     ]
    }
   ],
   "source": [
    "# * tweak model layers (pooling, padding, batch norm, dilation, size) - do in colab \n",
    "model = Sequential()\n",
    "\n",
    "# Must define the input shape in the first layer of the neural network\n",
    "#Input Layer, First Convolutional layer\n",
    "model.add(Conv2D(64, kernel_size=2, padding='same', activation='relu', input_shape=(28,28,1))) \n",
    "\n",
    "# First Max Pooling Layer\n",
    "model.add(MaxPooling2D(pool_size=2))\n",
    "# First Dropout Layer\n",
    "model.add(Dropout(0.3))\n",
    "\n",
    "# Second convolutional layer\n",
    "model.add(Conv2D(32, kernel_size=2, padding='same', activation='relu'))\n",
    "\n",
    "# Second Max Pooling Layer\n",
    "model.add(MaxPooling2D(pool_size=2))\n",
    "# Second Dropout Layer\n",
    "model.add(Dropout(0.3))\n",
    "\n",
    "# Add batch normalisation layer\n",
    "model.add(BatchNormalization())\n",
    "\n",
    "# Flattening Layer\n",
    "model.add(Flatten())\n",
    "\n",
    "# First Dense layer\n",
    "model.add(Dense(256, activation='relu'))\n",
    "\n",
    "# Third dropout layer\n",
    "model.add(Dropout(0.5))\n",
    "\n",
    "# Output Layer. 10 units since there are 10 classes. Softmax activation for probalilities\n",
    "model.add(Dense(10, activation='softmax'))\n",
    "\n",
    "# Take a look at the model summary\n",
    "model.summary()"
   ]
  },
  {
   "cell_type": "markdown",
   "metadata": {},
   "source": [
    "Compile Model"
   ]
  },
  {
   "cell_type": "code",
   "execution_count": 21,
   "metadata": {
    "ExecuteTime": {
     "end_time": "2018-12-09T16:43:12.919209Z",
     "start_time": "2018-12-09T16:43:12.721323Z"
    }
   },
   "outputs": [],
   "source": [
    "# Specificy loss function, optimizer and metrics to tune model\n",
    "model.compile(loss='categorical_crossentropy',\n",
    "             optimizer='adam',\n",
    "             metrics=['accuracy'])"
   ]
  },
  {
   "cell_type": "markdown",
   "metadata": {},
   "source": [
    "Train the model"
   ]
  },
  {
   "cell_type": "code",
   "execution_count": 22,
   "metadata": {
    "ExecuteTime": {
     "end_time": "2018-12-09T17:11:59.085581Z",
     "start_time": "2018-12-09T16:43:14.448472Z"
    }
   },
   "outputs": [
    {
     "name": "stdout",
     "output_type": "stream",
     "text": [
      "Train on 48000 samples, validate on 12000 samples\n",
      "Epoch 1/15\n",
      "48000/48000 [==============================] - 142s 3ms/step - loss: 0.6359 - acc: 0.7693 - val_loss: 0.3793 - val_acc: 0.8583\n",
      "\n",
      "Epoch 00001: val_loss improved from inf to 0.37934, saving model to model_best.hdf5\n",
      "Epoch 2/15\n",
      "48000/48000 [==============================] - 121s 3ms/step - loss: 0.4141 - acc: 0.8482 - val_loss: 0.3257 - val_acc: 0.8791\n",
      "\n",
      "Epoch 00002: val_loss improved from 0.37934 to 0.32565, saving model to model_best.hdf5\n",
      "Epoch 3/15\n",
      "48000/48000 [==============================] - 121s 3ms/step - loss: 0.3601 - acc: 0.8685 - val_loss: 0.2777 - val_acc: 0.8981\n",
      "\n",
      "Epoch 00003: val_loss improved from 0.32565 to 0.27769, saving model to model_best.hdf5\n",
      "Epoch 4/15\n",
      "48000/48000 [==============================] - 124s 3ms/step - loss: 0.3328 - acc: 0.8779 - val_loss: 0.2792 - val_acc: 0.8961\n",
      "\n",
      "Epoch 00004: val_loss did not improve from 0.27769\n",
      "Epoch 5/15\n",
      "48000/48000 [==============================] - 122s 3ms/step - loss: 0.3145 - acc: 0.8834 - val_loss: 0.2583 - val_acc: 0.9053\n",
      "\n",
      "Epoch 00005: val_loss improved from 0.27769 to 0.25833, saving model to model_best.hdf5\n",
      "Epoch 6/15\n",
      "48000/48000 [==============================] - 122s 3ms/step - loss: 0.3028 - acc: 0.8892 - val_loss: 0.2521 - val_acc: 0.9042\n",
      "\n",
      "Epoch 00006: val_loss improved from 0.25833 to 0.25206, saving model to model_best.hdf5\n",
      "Epoch 7/15\n",
      "48000/48000 [==============================] - 122s 3ms/step - loss: 0.2899 - acc: 0.8940 - val_loss: 0.2612 - val_acc: 0.9016\n",
      "\n",
      "Epoch 00007: val_loss did not improve from 0.25206\n",
      "Epoch 8/15\n",
      "48000/48000 [==============================] - 122s 3ms/step - loss: 0.2780 - acc: 0.8972 - val_loss: 0.2380 - val_acc: 0.9098\n",
      "\n",
      "Epoch 00008: val_loss improved from 0.25206 to 0.23802, saving model to model_best.hdf5\n",
      "Epoch 9/15\n",
      "48000/48000 [==============================] - 123s 3ms/step - loss: 0.2715 - acc: 0.8988 - val_loss: 0.2868 - val_acc: 0.8921\n",
      "\n",
      "Epoch 00009: val_loss did not improve from 0.23802\n",
      "Epoch 10/15\n",
      "48000/48000 [==============================] - 121s 3ms/step - loss: 0.2639 - acc: 0.9016 - val_loss: 0.2380 - val_acc: 0.9113\n",
      "\n",
      "Epoch 00010: val_loss improved from 0.23802 to 0.23799, saving model to model_best.hdf5\n",
      "Epoch 11/15\n",
      "48000/48000 [==============================] - 121s 3ms/step - loss: 0.2576 - acc: 0.9046 - val_loss: 0.2222 - val_acc: 0.9160\n",
      "\n",
      "Epoch 00011: val_loss improved from 0.23799 to 0.22219, saving model to model_best.hdf5\n",
      "Epoch 12/15\n",
      "48000/48000 [==============================] - 121s 3ms/step - loss: 0.2531 - acc: 0.9078 - val_loss: 0.2275 - val_acc: 0.9145\n",
      "\n",
      "Epoch 00012: val_loss did not improve from 0.22219\n",
      "Epoch 13/15\n",
      "48000/48000 [==============================] - 121s 3ms/step - loss: 0.2488 - acc: 0.9074 - val_loss: 0.2247 - val_acc: 0.9154\n",
      "\n",
      "Epoch 00013: val_loss did not improve from 0.22219\n",
      "Epoch 14/15\n",
      "48000/48000 [==============================] - 121s 3ms/step - loss: 0.2405 - acc: 0.9120 - val_loss: 0.2225 - val_acc: 0.9190\n",
      "\n",
      "Epoch 00014: val_loss did not improve from 0.22219\n"
     ]
    }
   ],
   "source": [
    "checkpointer = ModelCheckpoint(filepath='model_best.hdf5', verbose = 1, save_best_only=True)\n",
    "earlystop = EarlyStopping(monitor='val_loss', patience=3, verbose=0)\n",
    "callbacks = [checkpointer,earlystop]\n",
    "#This saves the best model with so it can be used later without retraining\n",
    "\n",
    "training = model.fit(x_train,\n",
    "         y_train,\n",
    "         batch_size=100,\n",
    "         epochs=15,\n",
    "         validation_split = 0.2,\n",
    "         callbacks=callbacks)"
   ]
  },
  {
   "cell_type": "markdown",
   "metadata": {},
   "source": [
    "Load weights with best accuracy"
   ]
  },
  {
   "cell_type": "code",
   "execution_count": 29,
   "metadata": {
    "ExecuteTime": {
     "end_time": "2018-12-09T17:13:46.399134Z",
     "start_time": "2018-12-09T17:13:46.243207Z"
    }
   },
   "outputs": [],
   "source": [
    "# Load the weights with the best validation accuracy\n",
    "model.load_weights('model_best.hdf5')"
   ]
  },
  {
   "cell_type": "code",
   "execution_count": 30,
   "metadata": {
    "ExecuteTime": {
     "end_time": "2018-12-09T17:13:47.122698Z",
     "start_time": "2018-12-09T17:13:46.957793Z"
    }
   },
   "outputs": [
    {
     "data": {
      "text/plain": [
       "[<matplotlib.lines.Line2D at 0x20d636c8e80>]"
      ]
     },
     "execution_count": 30,
     "metadata": {},
     "output_type": "execute_result"
    },
    {
     "data": {
      "image/png": "[encoded data removed]",
      "text/plain": [
       "<matplotlib.figure.Figure at 0x20d636c8940>"
      ]
     },
     "metadata": {},
     "output_type": "display_data"
    }
   ],
   "source": [
    "plt.plot(training.history['loss'])\n",
    "plt.plot(training.history['val_loss'])"
   ]
  },
  {
   "cell_type": "markdown",
   "metadata": {},
   "source": [
    "### Evaluate Model Perfomance"
   ]
  },
  {
   "cell_type": "markdown",
   "metadata": {},
   "source": [
    "Test Accuracy"
   ]
  },
  {
   "cell_type": "code",
   "execution_count": 31,
   "metadata": {
    "ExecuteTime": {
     "end_time": "2018-12-09T17:14:03.971780Z",
     "start_time": "2018-12-09T17:13:51.112129Z"
    }
   },
   "outputs": [],
   "source": [
    "# Make Predictions on the test set\n",
    "y_pred = model.predict(x_test)\n",
    "# Predicted Classes\n",
    "y_pred_classes = model.predict_classes(x_test)"
   ]
  },
  {
   "cell_type": "code",
   "execution_count": 32,
   "metadata": {
    "ExecuteTime": {
     "end_time": "2018-12-09T17:14:10.389101Z",
     "start_time": "2018-12-09T17:14:04.006746Z"
    }
   },
   "outputs": [
    {
     "name": "stdout",
     "output_type": "stream",
     "text": [
      "10000/10000 [==============================] - 6s 637us/step\n",
      "Test accuracy:91.2%\n"
     ]
    }
   ],
   "source": [
    "# Evaluate the model accuracy on test set\n",
    "score = model.evaluate(x_test, y_test)\n",
    "# Print test accuracy\n",
    "print('Test accuracy:{}%'.format(round(score[1]*100,2)))"
   ]
  },
  {
   "cell_type": "code",
   "execution_count": 33,
   "metadata": {
    "ExecuteTime": {
     "end_time": "2018-12-09T17:14:10.415086Z",
     "start_time": "2018-12-09T17:14:10.391100Z"
    },
    "scrolled": true
   },
   "outputs": [
    {
     "name": "stdout",
     "output_type": "stream",
     "text": [
      "[[852   0  13  14   3   1 113   1   3   0]\n",
      " [  0 982   0  12   1   0   3   0   2   0]\n",
      " [ 14   1 871  10  41   0  63   0   0   0]\n",
      " [ 11  11   5 923  19   0  29   0   2   0]\n",
      " [  0   1  46  36 846   0  70   0   1   0]\n",
      " [  0   0   0   0   0 969   0  20   0  11]\n",
      " [ 79   2  54  31  72   0 755   0   7   0]\n",
      " [  0   0   0   0   0   5   0 981   0  14]\n",
      " [  2   1   2   5   1   1   4   2 981   1]\n",
      " [  1   0   0   0   0   3   0  36   0 960]]\n"
     ]
    }
   ],
   "source": [
    "# Need to use argmax because of the one hot encoding\n",
    "print(confusion_matrix(y_test.argmax(axis=1), y_pred_classes))\n",
    "\n",
    "# couldn't find how to get the labels displayed. Should ask about this."
   ]
  },
  {
   "cell_type": "code",
   "execution_count": 34,
   "metadata": {
    "ExecuteTime": {
     "end_time": "2018-12-09T17:14:10.535016Z",
     "start_time": "2018-12-09T17:14:10.517029Z"
    },
    "scrolled": false
   },
   "outputs": [
    {
     "name": "stdout",
     "output_type": "stream",
     "text": [
      "             precision    recall  f1-score   support\n",
      "\n",
      "T-shirt/top       0.89      0.85      0.87      1000\n",
      "    Trouser       0.98      0.98      0.98      1000\n",
      "   Pullover       0.88      0.87      0.87      1000\n",
      "      Dress       0.90      0.92      0.91      1000\n",
      "       Coat       0.86      0.85      0.85      1000\n",
      "     Sandal       0.99      0.97      0.98      1000\n",
      "      Shirt       0.73      0.76      0.74      1000\n",
      "    Sneaker       0.94      0.98      0.96      1000\n",
      "        Bag       0.98      0.98      0.98      1000\n",
      " Ankle boot       0.97      0.96      0.97      1000\n",
      "\n",
      "avg / total       0.91      0.91      0.91     10000\n",
      "\n"
     ]
    }
   ],
   "source": [
    "print(classification_report(y_test.argmax(axis=1), y_pred_classes,target_names=fashion_mnist_labels))"
   ]
  },
  {
   "cell_type": "code",
   "execution_count": 35,
   "metadata": {
    "ExecuteTime": {
     "end_time": "2018-12-09T17:14:11.574645Z",
     "start_time": "2018-12-09T17:14:10.537016Z"
    },
    "scrolled": false
   },
   "outputs": [
    {
     "data": {
      "image/png": "[encoded data removed]",
      "text/plain": [
       "<matplotlib.figure.Figure at 0x20d639f57b8>"
      ]
     },
     "metadata": {},
     "output_type": "display_data"
    }
   ],
   "source": [
    "#Borrowed this from some code I found\n",
    "\n",
    "# Plot a random sample of 10 test images, their predicted labels and ground truth\n",
    "figure = plt.figure(figsize=(20, 8))\n",
    "for i, index in enumerate(np.random.choice(x_test.shape[0], size=15, replace=False)):\n",
    "    ax = figure.add_subplot(3, 5, i + 1, xticks=[], yticks=[])\n",
    "    # Display each image\n",
    "    ax.imshow(np.squeeze(x_test[index]))\n",
    "    predict_index = np.argmax(y_pred[index])\n",
    "    true_index = np.argmax(y_test[index])\n",
    "    # Set the title for each image\n",
    "    ax.set_title(\"{} ({})\".format(fashion_mnist_labels[predict_index], \n",
    "                                  fashion_mnist_labels[true_index]),\n",
    "                                  color=(\"green\" if predict_index == true_index else \"red\"))"
   ]
  },
  {
   "cell_type": "markdown",
   "metadata": {},
   "source": [
    "I am only recently beginning my journey into deep learning and image processing. As such I spend a fair amount of time searching how others have done the work already and using that as a base. \n",
    "I make a concerted effort to try and understand what the code is doing and not to just copy-paste. \n",
    "  \n",
    "These are the links I used quite extensively(and unashamedly) used to help me build this:\n",
    "\n",
    "* https://github.com/margaretmz/deep-learning/blob/master/fashion_mnist_keras.ipynb#scrollTo=Zx-Ee6LHZZgt\n",
    "* https://www.kaggle.com/gpreda/cnn-with-tensorflow-keras-for-fashion-mnist\n",
    "* https://www.kaggle.com/bugraokcu/cnn-with-keras\n"
   ]
  }
 ],
 "metadata": {
  "kernelspec": {
   "display_name": "Python 3",
   "language": "python",
   "name": "python3"
  },
  "language_info": {
   "codemirror_mode": {
    "name": "ipython",
    "version": 3
   },
   "file_extension": ".py",
   "mimetype": "text/x-python",
   "name": "python",
   "nbconvert_exporter": "python",
   "pygments_lexer": "ipython3",
   "version": "3.6.4"
  },
  "varInspector": {
   "cols": {
    "lenName": 16,
    "lenType": 16,
    "lenVar": 40
   },
   "kernels_config": {
    "python": {
     "delete_cmd_postfix": "",
     "delete_cmd_prefix": "del ",
     "library": "var_list.py",
     "varRefreshCmd": "print(var_dic_list())"
    },
    "r": {
     "delete_cmd_postfix": ") ",
     "delete_cmd_prefix": "rm(",
     "library": "var_list.r",
     "varRefreshCmd": "cat(var_dic_list()) "
    }
   },
   "types_to_exclude": [
    "module",
    "function",
    "builtin_function_or_method",
    "instance",
    "_Feature"
   ],
   "window_display": false
  }
 },
 "nbformat": 4,
 "nbformat_minor": 2
}
